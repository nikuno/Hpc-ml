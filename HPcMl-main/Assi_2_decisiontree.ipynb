{
  "nbformat": 4,
  "nbformat_minor": 0,
  "metadata": {
    "colab": {
      "provenance": []
    },
    "kernelspec": {
      "name": "python3",
      "display_name": "Python 3"
    },
    "language_info": {
      "name": "python"
    }
  },
  "cells": [
    {
      "cell_type": "code",
      "execution_count": null,
      "metadata": {
        "id": "_Lq8zhd2q0xH"
      },
      "outputs": [],
      "source": [
        "import numpy as np\n",
        "import pandas as pd"
      ]
    },
    {
      "cell_type": "code",
      "source": [
        "data={'ID' : [1,2,3,4,5,6,7,8,9,10,11,12,13,14],\n",
        "      'Age' : ['<21','<21','21-35','>35','>35','>35','21-35','<21','<21','>35','<21','21-35','21-35','>35'],\n",
        "      'Income' : ['High','High','High','Medium','Low','Low','Low','Medium','Low','Medium','Medium','Medium','High','Medium'],\n",
        "      'Gender' : ['Male','Male','Male','Male','Female','Female','Female','Male','Female','Female','Female','Male','Female','Male'],\n",
        "      'Marital Status' : ['Single','Married','Single','Single','Single','Married','Married','Single','Married','Single','Married','Married','Single','Married'],\n",
        "      'Buys' : ['No','No','Yes','Yes','Yes','No','Yes','No','Yes','Yes','Yes','Yes','Yes','No'] }\n",
        "df = pd.DataFrame(data)\n",
        "print(df)\n",
        "\n",
        "#IF DATASET IS GIVEN\n",
        "#df=pd.read_csv(\"DT-Data.csv\")\n"
      ],
      "metadata": {
        "id": "rwtPh01Ira-r",
        "colab": {
          "base_uri": "https://localhost:8080/"
        },
        "outputId": "33cde35a-d6aa-48f7-daad-af666d9d1b29"
      },
      "execution_count": null,
      "outputs": [
        {
          "output_type": "stream",
          "name": "stdout",
          "text": [
            "    ID    Age  Income  Gender Marital Status Buys\n",
            "0    1    <21    High    Male         Single   No\n",
            "1    2    <21    High    Male        Married   No\n",
            "2    3  21-35    High    Male         Single  Yes\n",
            "3    4    >35  Medium    Male         Single  Yes\n",
            "4    5    >35     Low  Female         Single  Yes\n",
            "5    6    >35     Low  Female        Married   No\n",
            "6    7  21-35     Low  Female        Married  Yes\n",
            "7    8    <21  Medium    Male         Single   No\n",
            "8    9    <21     Low  Female        Married  Yes\n",
            "9   10    >35  Medium  Female         Single  Yes\n",
            "10  11    <21  Medium  Female        Married  Yes\n",
            "11  12  21-35  Medium    Male        Married  Yes\n",
            "12  13  21-35    High  Female         Single  Yes\n",
            "13  14    >35  Medium    Male        Married   No\n"
          ]
        }
      ]
    },
    {
      "cell_type": "code",
      "source": [
        "x=df.iloc[:,:-1]\n",
        "y=df.iloc[:,5].values\n",
        "#Perform Label encoding\n",
        "from sklearn.preprocessing import LabelEncoder\n",
        "x=x.apply(LabelEncoder().fit_transform)\n",
        "print(x)"
      ],
      "metadata": {
        "colab": {
          "base_uri": "https://localhost:8080/"
        },
        "id": "EBSQZDpZz9_Y",
        "outputId": "b7174247-f344-4d35-b927-8da921243a50"
      },
      "execution_count": 25,
      "outputs": [
        {
          "output_type": "stream",
          "name": "stdout",
          "text": [
            "    ID  Age  Income  Gender  Marital Status\n",
            "0    0    1       0       1               1\n",
            "1    1    1       0       1               0\n",
            "2    2    0       0       1               1\n",
            "3    3    2       2       1               1\n",
            "4    4    2       1       0               1\n",
            "5    5    2       1       0               0\n",
            "6    6    0       1       0               0\n",
            "7    7    1       2       1               1\n",
            "8    8    1       1       0               0\n",
            "9    9    2       2       0               1\n",
            "10  10    1       2       0               0\n",
            "11  11    0       2       1               0\n",
            "12  12    0       0       0               1\n",
            "13  13    2       2       1               0\n"
          ]
        }
      ]
    },
    {
      "cell_type": "code",
      "source": [
        "from sklearn.tree import DecisionTreeClassifier\n",
        "regressor=DecisionTreeClassifier()\n",
        "regressor.fit(x.iloc[:,1:5],y)\n",
        "#Predict value for the given expression\n",
        "X_in=np.array([1,1,0,0])\n",
        "y_pred=regressor.predict([X_in])\n",
        "print (\"Prediction:\", y_pred)"
      ],
      "metadata": {
        "colab": {
          "base_uri": "https://localhost:8080/"
        },
        "id": "2nfTuiGZ4zqp",
        "outputId": "34a996f8-14e1-4f23-d712-313f1ee2b246"
      },
      "execution_count": 29,
      "outputs": [
        {
          "output_type": "stream",
          "name": "stdout",
          "text": [
            "Prediction: ['Yes']\n"
          ]
        },
        {
          "output_type": "stream",
          "name": "stderr",
          "text": [
            "/usr/local/lib/python3.10/dist-packages/sklearn/base.py:439: UserWarning: X does not have valid feature names, but DecisionTreeClassifier was fitted with feature names\n",
            "  warnings.warn(\n"
          ]
        }
      ]
    },
    {
      "cell_type": "code",
      "source": [],
      "metadata": {
        "id": "0umQuG6O5Ztw"
      },
      "execution_count": null,
      "outputs": []
    }
  ]
}